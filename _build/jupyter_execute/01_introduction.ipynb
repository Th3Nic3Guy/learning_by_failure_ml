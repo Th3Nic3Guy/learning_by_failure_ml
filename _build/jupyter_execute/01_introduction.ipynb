{
 "cells": [
  {
   "cell_type": "markdown",
   "metadata": {},
   "source": [
    "# Introduction to Machine Learning\n",
    "\n",
    "In todays day and age, the amount of data that is being generated is increasing at an exponential rate. \n",
    "This data can be used to gain insights into various aspects of the world. \n",
    "`Machine learning` is a field of computer science that uses \n",
    "`statistical techniques` and 'Mathematical Operations' to give computer systems \n",
    "the ability to \"learn\" (i.e., progressively improve performance on a specific \n",
    "task) with data, without being explicitly programmed. \n",
    "`Machine learning` is a subset of `Artificial Intelligence`. \n",
    "\n",
    "`Machine learning` algorithms build a mathematical model based on sample data, \n",
    "known as \"training data\", in order to make predictions or decisions without \n",
    "being explicitly programmed to perform the task. \n",
    "\n"
   ]
  },
  {
   "cell_type": "markdown",
   "metadata": {},
   "source": [
    "## Introduction to the `World of AI/ML`\n",
    "\n",
    "`Machine Learning` in essence is basically `Mathematics` on overdrive.\n",
    "\n",
    "What is `Machine Learning`? What is the basic level of ML?\n",
    "\n",
    "Imagine the following code:\n",
    "\n",
    "```python\n",
    "if x>10:\n",
    "    print(\"x is greater than 10\")\n",
    "else:\n",
    "    print(\"x is less than 10\")\n",
    "```\n",
    "\n",
    "Is this `Machine Learning`? \n",
    "\n",
    "> No, this is a rule based system. But re-imagine \n",
    "this example as follows:\n",
    "\n",
    "```python  \n",
    "if x>y:\n",
    "    print(\"x is greater than 10\")\n",
    "else:\n",
    "    print(\"x is less than 10\")\n",
    "```\n",
    "\n",
    "where the value of `y` is adjusted but mathematical operations and \n",
    "feedback rather than you explicitly setting the value as 10.\n",
    "\n",
    "Is this now `Machine Learning`?\n",
    "\n",
    "> Yes, this is a basic example of `Machine Learning`.\n",
    "\n",
    "First try to understand What is `Artificial Intelligence`?\n",
    "\n",
    "Think of `Artificial Intelligence`, the buzzword of the decade, as the ability to learn the art of decision making.\n",
    "Whether the decision is the action to switch on the bulb based on light intensity on the sensor or the descision to \n",
    "turn the car wheel in case of any object detected in front of the car or the ability to predict the next word in \n",
    "the sequence of sentence, or just taking the descision to determine which object is present in the image.\n",
    "\n",
    "`Machine Learning` is the subset of this AI, `ML` is about building a mathematical set of equations which take \n",
    "some set of inputs and outputs a value which can be `inferred` by down stream systems as a descision.\n",
    "\n",
    "ML is the `if..else...end` condition that saves our efforts to come up with rules that execute certain actions.\n",
    "\n",
    "> Read more on this, the correct name for this process is called [Markov decision process](https://en.wikipedia.org/wiki/Markov_decision_process)\n",
    "\n",
    "Now having said that, its imperative to understand that `Machine Learning` the folling points:\n",
    "\n",
    "### `Machine Learning` is not a magic wand that can solve all the problems.\n",
    "\n",
    "Think about the problem statement: \n",
    "\n",
    "> \"I want to predict the stock price of a company for the next 10 days with `100%` accuracy. Consider `all` the news, the financial reports, the market conditions, the global economy, the political conditions, the weather, the mood of the CEO, the mood of the employees, the mood of the investors, the mood of the market, the mood of the world, the mood of the universe, the mood of the aliens, the mood of the sun, the mood of the moon, the mood of the stars, the mood of the black hole, the mood of the dark matter, the mood of the dark energy, the mood of the dark force, the mood of the dark side... and so on.\"\n",
    "\n",
    "This is a very common problem statement that is thrown around in the world of `Machine Learning`(not all the moods, but some of them are included). \n",
    "People consider Machine Learning as the magic wand that can pull up all the data, do its hocus focus and give you the answer. No `Machine Learning` cannot do that.\n",
    "\n",
    "### `Machine Learning` is purely mathematics. Anything and everything that you would solve via `Machine Learning` first needs to be translated to mathematics first and then back to business problem.\n",
    "\n",
    "Now Consider the same problem statement:\n",
    "\n",
    "> \"I want to predict the stock price of a company for the next 10 days with `a considerable/acceptable/High` accuracy. \n",
    "> Consider `relevant` the news, the financial reports. Provide me with the probability of the stock price going up or down.\"\n",
    "\n",
    "This is a more realistic problem statement. What you need here is to translate the problem statement to a mathematical problem statement.\n",
    "\n",
    "> Translated Mathematical statement: \"Given the historical data of the stock price, the news, the financial reports, \n",
    "> predict the `estimated` stock price of the company for the next `10 days` with a probability of the stock price going up or down.\"\n",
    "\n",
    "This translated statement means that the model would get historical data and vectorized financial statements and news data and then predict/estimate the stock price for the next 10 days. It should also provide a probability/confidence score of the stock price going up or down, values ranging `[-1, 1]`.\n",
    "\n",
    "Machine Learning leverages the power of `Statistics` and generalizes the input data in various dimensions and equation to represent the input data in a mathematical form and then applies further transformations and operations to output a value.\n",
    "\n",
    "This value is then \"inferred\" as a decision by the downstream systems. A value output of [-1, 1] would be *inferred* as a confidence score and the direction of the stock movement, or a value like -2.4 or +5.4 may be inferred as the delta in the current value of the stock. How you infer the value is up to you and the business problem.\n",
    "\n",
    "![maths](assets/ai.png)\n",
    "\n"
   ]
  },
  {
   "cell_type": "markdown",
   "metadata": {},
   "source": [
    "## Machine Learning and Its Applications\n",
    "\n",
    "As mentioned above"
   ]
  },
  {
   "cell_type": "markdown",
   "metadata": {},
   "source": [
    "## Types of Machine Learning\n",
    "\n",
    "`Machine Learning` is a vast field and can be divided into various categories based on the type of learning and the nature of the data.\n",
    "\n",
    "`Machine Learning` can be visualized in 2 different dimensions:\n",
    "- What needs to be done\n",
    "- How it should be done\n",
    "\n",
    "Think of a problem statement.\n",
    "\n",
    "\n",
    "\n",
    "![map](assets/map_of_ml.png)"
   ]
  },
  {
   "cell_type": "markdown",
   "metadata": {},
   "source": [
    "### Matrix of problems: `Supervised`/`Unsupervised`, `Regression`/`Classification`\n",
    "\n",
    "Examples:\n",
    "\n",
    "|Objective/Type Of Learning|Supervised|Unsupervised|\n",
    "|:-:|:-:|:-:|\n",
    "|Regression|House Price Prediction|House Price Estimation|\n",
    "|Classification|House Class(LIG/MIG/HIG)|Similar Houses|"
   ]
  },
  {
   "cell_type": "markdown",
   "metadata": {},
   "source": [
    "## Introduction to Project Oriented Approach: `Stock Market`\n",
    "\n",
    "\n",
    "![problem](assets/problem0.png)"
   ]
  }
 ],
 "metadata": {
  "kernelspec": {
   "display_name": "Python 3 (ipykernel)",
   "language": "python",
   "name": "python3"
  },
  "language_info": {
   "codemirror_mode": {
    "name": "ipython",
    "version": 3
   },
   "file_extension": ".py",
   "mimetype": "text/x-python",
   "name": "python",
   "nbconvert_exporter": "python",
   "pygments_lexer": "ipython3",
   "version": "3.11.8"
  }
 },
 "nbformat": 4,
 "nbformat_minor": 4
}