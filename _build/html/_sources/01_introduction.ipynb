{
 "cells": [
  {
   "cell_type": "markdown",
   "metadata": {},
   "source": [
    "# Introduction to Machine Learning\n",
    "\n",
    "In todays day and age, the amount of data that is being generated is increasing at an exponential rate. This data can be used to gain insights into various aspects of the world. `Machine learning` is a field of computer science that uses `statistical techniques` to give computer systems the ability to \"learn\" (i.e., progressively improve performance on a specific task) with data, without being explicitly programmed. `Machine learning` is a subset of `Artificial Intelligence`. `Machine learning` algorithms build a mathematical model based on sample data, known as \"training data\", in order to make predictions or decisions without being explicitly programmed to perform the task. `Machine learning` algorithms are used in a wide variety of applications, such as email filtering and computer vision, where it is difficult or infeasible to develop conventional algorithms to perform the needed tasks.\n",
    "\n",
    "In this notebook, we will be discussing the following topics:\n",
    "  - Introduction to the `World of AI/ML`\n",
    "  - Machine Learning and Its Applications\n",
    "  - Types of Machine Learning:\n",
    "    - Matrix of problems: `Supervised`/`Unsupervised`, `Regression`/`Classification`\n",
    "  - Introduction to Case Study/Project for Project Oriented Approach: `Stock Market`"
   ]
  },
  {
   "cell_type": "markdown",
   "metadata": {},
   "source": [
    "## Introduction to the `World of AI/ML`"
   ]
  },
  {
   "cell_type": "markdown",
   "metadata": {},
   "source": [
    "## Machine Learning and Its Applications"
   ]
  },
  {
   "cell_type": "markdown",
   "metadata": {},
   "source": [
    "## Types of Machine Learning"
   ]
  },
  {
   "cell_type": "markdown",
   "metadata": {},
   "source": [
    "## Introduction to Project Oriented Approach: `Stock Market`"
   ]
  }
 ],
 "metadata": {
  "language_info": {
   "name": "python"
  }
 },
 "nbformat": 4,
 "nbformat_minor": 2
}
