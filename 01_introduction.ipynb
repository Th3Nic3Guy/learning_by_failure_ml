{
 "cells": [
  {
   "cell_type": "markdown",
   "metadata": {},
   "source": [
    "# Introduction to Machine Learning\n",
    "\n",
    "In todays day and age, the amount of data that is being generated is increasing at an exponential rate. \n",
    "This data can be used to gain insights into various aspects of the world. \n",
    "`Machine learning` is a field of computer science that uses \n",
    "`statistical techniques` and 'Mathematical Operations' to give computer systems \n",
    "the ability to \"learn\" (i.e., progressively improve performance on a specific \n",
    "task) with data, without being explicitly programmed. \n",
    "`Machine learning` is a subset of `Artificial Intelligence`. \n",
    "\n",
    "`Machine learning` algorithms build a mathematical model based on sample data, \n",
    "known as \"training data\", in order to make predictions or decisions without \n",
    "being explicitly programmed to perform the task. \n",
    "\n"
   ]
  },
  {
   "cell_type": "markdown",
   "metadata": {},
   "source": [
    "## Introduction to the `World of AI/ML`\n",
    "\n",
    "`Machine Learning` in essence is basically `Mathematics` on overdrive.\n",
    "\n",
    "What is `Machine Learning`? What is the basic level of ML?\n",
    "\n",
    "![maths](assets/ai.png)\n",
    "\n",
    "![map](assets/map_of_ml.png)"
   ]
  },
  {
   "cell_type": "markdown",
   "metadata": {},
   "source": [
    "## Machine Learning and Its Applications"
   ]
  },
  {
   "cell_type": "markdown",
   "metadata": {},
   "source": [
    "## Types of Machine Learning"
   ]
  },
  {
   "cell_type": "markdown",
   "metadata": {},
   "source": [
    "### Matrix of problems: `Supervised`/`Unsupervised`, `Regression`/`Classification`\n",
    "\n",
    "Examples:\n",
    "|Objective/Type Of Learning|Supervised|Unsupervised|\n",
    "|:-:|:-:|:-:|\n",
    "|Regression|House Price Prediction|House Price Estimation|\n",
    "|Classification|House Class(LIG/MIG/HIG)|Similar Houses|"
   ]
  },
  {
   "cell_type": "markdown",
   "metadata": {},
   "source": [
    "## Introduction to Project Oriented Approach: `Stock Market`\n",
    "\n",
    "\n",
    "![problem](assets/problem0.png)"
   ]
  }
 ],
 "metadata": {
  "kernelspec": {
   "display_name": "Python 3 (ipykernel)",
   "language": "python",
   "name": "python3"
  },
  "language_info": {
   "codemirror_mode": {
    "name": "ipython",
    "version": 3
   },
   "file_extension": ".py",
   "mimetype": "text/x-python",
   "name": "python",
   "nbconvert_exporter": "python",
   "pygments_lexer": "ipython3",
   "version": "3.11.8"
  }
 },
 "nbformat": 4,
 "nbformat_minor": 4
}
