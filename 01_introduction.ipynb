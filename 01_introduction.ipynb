{
 "cells": [
  {
   "cell_type": "markdown",
   "metadata": {},
   "source": [
    "# Introduction to Machine Learning\n",
    "\n",
    "In todays day and age, the amount of data that is being generated is increasing at an exponential rate. \n",
    "This data can be used to gain insights into various aspects of the world. \n",
    "`Machine learning` is a field of computer science that uses \n",
    "`statistical techniques` and 'Mathematical Operations' to give computer systems \n",
    "the ability to \"learn\" (i.e., progressively improve performance on a specific \n",
    "task) with data, without being explicitly programmed. \n",
    "`Machine learning` is a subset of `Artificial Intelligence`. \n",
    "\n",
    "`Machine learning` algorithms build a mathematical model based on sample data, \n",
    "known as \"training data\", in order to make predictions or decisions without \n",
    "being explicitly programmed to perform the task. \n",
    "\n"
   ]
  },
  {
   "cell_type": "markdown",
   "metadata": {},
   "source": [
    "## Introduction to the `World of AI/ML`\n",
    "\n",
    "`Machine Learning` in essence is basically `Mathematics` on overdrive.\n",
    "\n",
    "What is `Machine Learning`? What is the basic level of ML?\n",
    "\n",
    "Imagine the following code:\n",
    "\n",
    "```python\n",
    "if x>10:\n",
    "    print(\"x is greater than 10\")\n",
    "else:\n",
    "    print(\"x is less than 10\")\n",
    "```\n",
    "\n",
    "Is this `Machine Learning`? \n",
    "\n",
    "> No, this is a rule based system. But re-imagine \n",
    "this example as follows:\n",
    "\n",
    "```python  \n",
    "if x>y:\n",
    "    print(\"x is greater than 10\")\n",
    "else:\n",
    "    print(\"x is less than 10\")\n",
    "```\n",
    "\n",
    "where the value of `y` is adjusted but mathematical operations and \n",
    "feedback rather than you explicitly setting the value as 10.\n",
    "\n",
    "Is this now `Machine Learning`?\n",
    "\n",
    "> Yes, this is a basic example of `Machine Learning`.\n",
    "\n",
    "First try to understand What is `Artificial Intelligence`?\n",
    "\n",
    "\n",
    "\n",
    "Think of `Artificial Intelligence`, the buzzword of the decade, as the ability to learn the art of decision making.\n",
    "Whether the decision is the action to switch on the bulb based on light intensity on the sensor or the descision to \n",
    "turn the car wheel in case of any object detected in front of the car or the ability to predict the next word in \n",
    "the sequece of sentence, or just taking the descision to determine which object is present in the image.\n",
    "\n",
    "`Machine Learning` is the subset of this AI\n",
    "\n",
    "It is about building a mathematical set of equations which take some set of inputs and outputs a value which can be `inferred` by down stream systems as a descision.\n",
    "\n",
    "ML is the `if..else...end` condition that saves our efforts to come up with rules that execute certain actions.\n",
    "\n",
    "Consider `Artificial Intelligence`\n",
    "\n",
    "![maths](assets/ai.png)\n",
    "\n"
   ]
  },
  {
   "cell_type": "markdown",
   "metadata": {},
   "source": [
    "## Machine Learning and Its Applications"
   ]
  },
  {
   "cell_type": "markdown",
   "metadata": {},
   "source": [
    "## Types of Machine Learning\n",
    "![map](assets/map_of_ml.png)"
   ]
  },
  {
   "cell_type": "markdown",
   "metadata": {},
   "source": [
    "### Matrix of problems: `Supervised`/`Unsupervised`, `Regression`/`Classification`\n",
    "\n",
    "Examples:\n",
    "\n",
    "|Objective/Type Of Learning|Supervised|Unsupervised|\n",
    "|:-:|:-:|:-:|\n",
    "|Regression|House Price Prediction|House Price Estimation|\n",
    "|Classification|House Class(LIG/MIG/HIG)|Similar Houses|"
   ]
  },
  {
   "cell_type": "markdown",
   "metadata": {},
   "source": [
    "## Introduction to Project Oriented Approach: `Stock Market`\n",
    "\n",
    "\n",
    "![problem](assets/problem0.png)"
   ]
  }
 ],
 "metadata": {
  "kernelspec": {
   "display_name": "Python 3 (ipykernel)",
   "language": "python",
   "name": "python3"
  },
  "language_info": {
   "codemirror_mode": {
    "name": "ipython",
    "version": 3
   },
   "file_extension": ".py",
   "mimetype": "text/x-python",
   "name": "python",
   "nbconvert_exporter": "python",
   "pygments_lexer": "ipython3",
   "version": "3.11.8"
  }
 },
 "nbformat": 4,
 "nbformat_minor": 4
}
